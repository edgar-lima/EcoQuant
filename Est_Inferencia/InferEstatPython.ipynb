{
 "cells": [
  {
   "cell_type": "markdown",
   "id": "acd9d6b2",
   "metadata": {},
   "source": [
    "# Introdução a inferência estatística"
   ]
  },
  {
   "cell_type": "markdown",
   "id": "dc752040",
   "metadata": {},
   "source": [
    "Primeiramente vamos carregas os pacotes necessários e o conjunto de dados."
   ]
  },
  {
   "cell_type": "code",
   "execution_count": 94,
   "id": "2a4b50dd",
   "metadata": {},
   "outputs": [],
   "source": [
    "import pandas as pd\n",
    "import matplotlib.pyplot as plt\n",
    "import statsmodels.api as sm\n",
    "from zepid.graphics import EffectMeasurePlot "
   ]
  },
  {
   "cell_type": "markdown",
   "id": "92731bfa",
   "metadata": {},
   "source": [
    "Para  trabalharmos com o nosso exemplo escolhi uma parte dos dados do pacote ecodados do R, esse subconjunto está salvo no meu diretório de GitHub. Todas as variáveis já estão padronizadas com média 0 e desvio padrão 1. Dessa maneira elas estão em uma mesma unidade de medida e poemos comparar umas as outras."
   ]
  },
  {
   "cell_type": "code",
   "execution_count": 17,
   "id": "c5cced60",
   "metadata": {},
   "outputs": [
    {
     "data": {
      "text/html": [
       "<div>\n",
       "<style scoped>\n",
       "    .dataframe tbody tr th:only-of-type {\n",
       "        vertical-align: middle;\n",
       "    }\n",
       "\n",
       "    .dataframe tbody tr th {\n",
       "        vertical-align: top;\n",
       "    }\n",
       "\n",
       "    .dataframe thead th {\n",
       "        text-align: right;\n",
       "    }\n",
       "</style>\n",
       "<table border=\"1\" class=\"dataframe\">\n",
       "  <thead>\n",
       "    <tr style=\"text-align: right;\">\n",
       "      <th></th>\n",
       "      <th>Riqueza_HB</th>\n",
       "      <th>vegcov</th>\n",
       "      <th>area</th>\n",
       "      <th>forcov</th>\n",
       "      <th>dfrag</th>\n",
       "      <th>dwater</th>\n",
       "    </tr>\n",
       "  </thead>\n",
       "  <tbody>\n",
       "    <tr>\n",
       "      <th>0</th>\n",
       "      <td>6</td>\n",
       "      <td>-1.461851</td>\n",
       "      <td>-2.418270</td>\n",
       "      <td>-0.604596</td>\n",
       "      <td>0.410084</td>\n",
       "      <td>1.198175</td>\n",
       "    </tr>\n",
       "    <tr>\n",
       "      <th>1</th>\n",
       "      <td>13</td>\n",
       "      <td>-1.145775</td>\n",
       "      <td>0.147353</td>\n",
       "      <td>-0.020849</td>\n",
       "      <td>-0.097045</td>\n",
       "      <td>0.970207</td>\n",
       "    </tr>\n",
       "  </tbody>\n",
       "</table>\n",
       "</div>"
      ],
      "text/plain": [
       "   Riqueza_HB    vegcov      area    forcov     dfrag    dwater\n",
       "0           6 -1.461851 -2.418270 -0.604596  0.410084  1.198175\n",
       "1          13 -1.145775  0.147353 -0.020849 -0.097045  0.970207"
      ]
     },
     "execution_count": 17,
     "metadata": {},
     "output_type": "execute_result"
    }
   ],
   "source": [
    "dados= pd.read_excel(\"C:/Users/Edgar/Documents/GitHub/EcoQuant/Estrategia_Inferencial/dados.xlsx\")\n",
    "dados.head(2)"
   ]
  },
  {
   "cell_type": "markdown",
   "id": "a4df4d77",
   "metadata": {},
   "source": [
    "Significado de cada variável:\n",
    "**Riqueza_Hb**= Riqueza estimada de anfíbios; **vegcov**= Cobertura de vegetação aquática; **area**= área do corpo d'água; **forcov**= Cobertura de floresta nativa ao redor do corpo d'água;\n",
    "**dfrag**= Distância para o fragmento mais próximo; **dwater**= Distância pra o corpo d'água mais próximo."
   ]
  },
  {
   "cell_type": "markdown",
   "id": "853164d8",
   "metadata": {},
   "source": [
    "Para fins didáticos não vamos realizar os testes de pressupostos e iremos direto ao nosso objetivo, mas reforço que é indispensável realizar os testes de pressupostos em qualquer análise estatística. **Obs: Deixem comentários se querem um post sobre os pressupostos e quais as alternativas caso eles não sejam atendidos.**"
   ]
  },
  {
   "cell_type": "markdown",
   "id": "d99561a4",
   "metadata": {},
   "source": [
    "Primeiramente precisamos separar a variável dependente das variáveis preditoras e ajustar um intercepto para as variáveis preditoras."
   ]
  },
  {
   "cell_type": "code",
   "execution_count": 23,
   "id": "4b5f1542",
   "metadata": {},
   "outputs": [],
   "source": [
    "resp= dados[\"Riqueza_HB\"]\n",
    "pred= dados.drop(\"Riqueza_HB\", axis=1)\n",
    "pred2= sm.add_constant(pred, prepend= False)"
   ]
  },
  {
   "cell_type": "markdown",
   "id": "1e1b1433",
   "metadata": {},
   "source": [
    "Vamos então ajustamos o nosso modelo, em que a riqueza estimada de espécies é a nossa variável dependente e as outras variáveis são as preditoras"
   ]
  },
  {
   "cell_type": "code",
   "execution_count": 29,
   "id": "1489e926",
   "metadata": {},
   "outputs": [],
   "source": [
    "modelo= sm.OLS(resp, pred2).fit()"
   ]
  },
  {
   "cell_type": "markdown",
   "id": "f14f8ba3",
   "metadata": {},
   "source": [
    "**Pronto, modelo ajustado!!!**"
   ]
  },
  {
   "cell_type": "markdown",
   "id": "8dad1e32",
   "metadata": {},
   "source": [
    "Agora podemos colocar podemos utilizar as nossas abordagens filosóficas para fazer inferência."
   ]
  },
  {
   "cell_type": "markdown",
   "id": "f3f1f72a",
   "metadata": {},
   "source": [
    "Vamos começar pela inferência utilizando o **teste da hipótese nula**, nela iremos avaliar primeiramente o p-valor e saber se iremos aceitar o refutar a nossa hipótese nula. Só iremos avaliar os resultados do tamanho de efeito e ajuste do modelo se a hipótese nula for rejeitada."
   ]
  },
  {
   "cell_type": "code",
   "execution_count": 34,
   "id": "16aacc39",
   "metadata": {},
   "outputs": [
    {
     "name": "stdout",
     "output_type": "stream",
     "text": [
      "                            OLS Regression Results                            \n",
      "==============================================================================\n",
      "Dep. Variable:             Riqueza_HB   R-squared:                       0.258\n",
      "Model:                            OLS   Adj. R-squared:                  0.149\n",
      "Method:                 Least Squares   F-statistic:                     2.369\n",
      "Date:                Mon, 22 Aug 2022   Prob (F-statistic):             0.0601\n",
      "Time:                        18:54:54   Log-Likelihood:                -102.23\n",
      "No. Observations:                  40   AIC:                             216.5\n",
      "Df Residuals:                      34   BIC:                             226.6\n",
      "Df Model:                           5                                         \n",
      "Covariance Type:            nonrobust                                         \n",
      "==============================================================================\n",
      "                 coef    std err          t      P>|t|      [0.025      0.975]\n",
      "------------------------------------------------------------------------------\n",
      "vegcov         0.5714      0.565      1.011      0.319      -0.577       1.720\n",
      "area           1.3117      0.580      2.260      0.030       0.132       2.491\n",
      "forcov        -1.2270      0.778     -1.578      0.124      -2.807       0.353\n",
      "dfrag         -0.4972      0.785     -0.634      0.531      -2.092       1.098\n",
      "dwater         1.0748      0.568      1.893      0.067      -0.079       2.229\n",
      "const         12.4500      0.534     23.293      0.000      11.364      13.536\n",
      "==============================================================================\n",
      "Omnibus:                        2.548   Durbin-Watson:                   1.156\n",
      "Prob(Omnibus):                  0.280   Jarque-Bera (JB):                1.721\n",
      "Skew:                          -0.498   Prob(JB):                        0.423\n",
      "Kurtosis:                       3.203   Cond. No.                         2.65\n",
      "==============================================================================\n",
      "\n",
      "Notes:\n",
      "[1] Standard Errors assume that the covariance matrix of the errors is correctly specified.\n"
     ]
    }
   ],
   "source": [
    "print(modelo.summary())"
   ]
  },
  {
   "cell_type": "markdown",
   "id": "fcf9d35d",
   "metadata": {},
   "source": [
    "Primeiramente devemos avaliar os resultados do quadro superior (OLS Regression Results) que é o resultado do modelo completo, e avaliando o valor de p chegamos a conclusão de que não devemos rejeitar a hipótese nula. Sendo assim devemos reportar os resultados e indicar que não encontramos nenhuma relação entre as variáveis que utilizamos e a riqueza estimada de anfíbio."
   ]
  },
  {
   "cell_type": "markdown",
   "id": "94154c6c",
   "metadata": {},
   "source": [
    "Agora vamos utilizar a segunda abordagem de inferência estatística, nós utilizar os valores de inclinação da reta e o intervalo de confiança relacionados a eles. Aqui a  inclinação da reta estará representando o tamanho de efeito de uma variável preditora sobre a variável dependente."
   ]
  },
  {
   "cell_type": "code",
   "execution_count": 179,
   "id": "cc06b497",
   "metadata": {},
   "outputs": [],
   "source": [
    "tam = modelo.params # Extraindo as inclinações da reta\n",
    "conf = modelo.conf_int() # Extraindo os intervalos de confiança\n",
    "conf['Tam'] = tam # salbando IC e tamanho de efeito num mesmo dataframe\n",
    "conf.columns = ['Min', 'Max', 'Tam']# dando nomes para as colunas \n",
    "conf.drop([\"const\"], axis= 0, inplace= True)# retirando o as estimativas do intercepto\n",
    "lab= [\"VegCov\", \"Area\", \"ForCov\", \"DFrag\", \"DWater\"]# Criando uma lista com os nomes das variáveis"
   ]
  },
  {
   "cell_type": "markdown",
   "id": "ca5c37db",
   "metadata": {},
   "source": [
    "Agora vamos utilizar as estimativas do intervalo de confiança pra criar uma lista com os intervalos em relação ao tamanho de efeito."
   ]
  },
  {
   "cell_type": "code",
   "execution_count": 188,
   "id": "5d804d11",
   "metadata": {},
   "outputs": [],
   "source": [
    "ic= [conf[\"Tam\"] - conf[\"Min\"],conf[\"Max\"] - conf[\"Tam\"] ]\n"
   ]
  },
  {
   "cell_type": "markdown",
   "id": "67a25e88",
   "metadata": {},
   "source": [
    "Agora vamos criar um gráfico para analisarmos o resultado gráficamente."
   ]
  },
  {
   "cell_type": "code",
   "execution_count": 194,
   "id": "910bf17f",
   "metadata": {},
   "outputs": [
    {
     "data": {
      "image/png": "[encoded data removed]",
      "text/plain": [
       "<Figure size 900x600 with 1 Axes>"
      ]
     },
     "metadata": {
      "needs_background": "light"
     },
     "output_type": "display_data"
    }
   ],
   "source": [
    "plt.figure(figsize= (6,4), dpi= 150)\n",
    "plt.errorbar(x= conf[\"Tam\"], y= lab, xerr=ic, color= 'black', linestyle= \"None\",capsize=3, linewidth= 1,\n",
    "             marker=\"o\", markersize=5, mfc=\"black\", mec= \"black\")\n",
    "plt.axvline(x=0, linewidth=1, linestyle='--', color='black')\n",
    "plt.xlabel(\"Tamanho de efeito (Z-Score)\", fontsize= 16)\n",
    "plt.ylabel(\"Variáveis\", fontsize= 16)\n",
    "plt.text(-2.8,3.8, \"R²ajust.= 0.15\" )\n",
    "plt.show()"
   ]
  },
  {
   "cell_type": "markdown",
   "id": "41bc462c",
   "metadata": {},
   "source": [
    "Olhando para os tamanhos de efeito e seus  intervalos de confiança podemos concluir que todas as variáveis possuem uma grande incerteza associada aos seus efeitos. As variáveis **Dwater** e **VegCov** possuem tamanhos de efeito positivos mas devido a incerteza associada a elas é possível encontrar valores negativos ou nenhuma associação. Também temos uma incerteza quanto a direção das variáveis **DFrag** e **ForCov** que possuem tamanho de efeito negativo mas seus intervalos de confiança indicam que podem ser encontrados valores negativos com uma certa frequência. Já a variável **Area** não apresenta incerteza quando a sua direção que é positiva, mas sim uma grande incerteza relacionado a sua magnitude. Também é interessante avaliarmos que no geral o nosso modelo estatístico tem baixo poder explicativo, encontramos um R² ajustado de 0.15, ou seja, todas as 5 variáveis juntas explicam apenas 15% do total de variação na nossa variável resposta."
   ]
  },
  {
   "cell_type": "markdown",
   "id": "786b9887",
   "metadata": {},
   "source": [
    "**Atenção!!!**"
   ]
  },
  {
   "cell_type": "markdown",
   "id": "7b873aac",
   "metadata": {},
   "source": [
    "É comum pesquisadores utilizar essa abordagem como uma outra forma de testar a hipótese nula, onde, se o intervalo de confiança sobrepõe o zero que dizer que a hipótese nula pra aquela estimativa deve ser aceita.  No caso dos nossos resultados só não rejeitaríamos a hipótese nula para a variável Area."
   ]
  },
  {
   "cell_type": "markdown",
   "id": "7f5e3081",
   "metadata": {},
   "source": [
    "**Referências**"
   ]
  },
  {
   "cell_type": "markdown",
   "id": "0a96f5f2",
   "metadata": {},
   "source": [
    "Coelho, M. T. P., Diniz‐Filho, J. A., & Rangel, T. F. (2019). A parsimonious view of the parsimony principle in ecology and evolution. Ecography, 42(5), 968-976."
   ]
  },
  {
   "cell_type": "markdown",
   "id": "1e337308",
   "metadata": {},
   "source": [
    "Halsey, L. G. (2019). The reign of the p-value is over: what alternative analyses could we employ to fill the power vacuum?. Biology letters, 15(5), 20190174."
   ]
  },
  {
   "cell_type": "markdown",
   "id": "ae9df009",
   "metadata": {},
   "source": [
    "Salsburg, D. S. (2009). Uma senhora toma chá... como a estatística revolucionou a ciência no século XX (p. 190). Rio de Janeiro: Zahar."
   ]
  },
  {
   "cell_type": "markdown",
   "id": "eeb1304d",
   "metadata": {},
   "source": [
    "Stephens, P. A., Buskirk, S. W., & del Rio, C. M. (2007). Inference in ecology and evolution. Trends in Ecology & Evolution, 22(4), 192-197."
   ]
  },
  {
   "cell_type": "code",
   "execution_count": null,
   "id": "304cf4e5",
   "metadata": {},
   "outputs": [],
   "source": []
  }
 ],
 "metadata": {
  "kernelspec": {
   "display_name": "Python 3 (ipykernel)",
   "language": "python",
   "name": "python3"
  },
  "language_info": {
   "codemirror_mode": {
    "name": "ipython",
    "version": 3
   },
   "file_extension": ".py",
   "mimetype": "text/x-python",
   "name": "python",
   "nbconvert_exporter": "python",
   "pygments_lexer": "ipython3",
   "version": "3.9.2"
  }
 },
 "nbformat": 4,
 "nbformat_minor": 5
}
